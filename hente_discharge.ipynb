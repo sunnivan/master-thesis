{
 "cells": [
  {
   "cell_type": "markdown",
   "metadata": {},
   "source": [
    "Import packages"
   ]
  },
  {
   "cell_type": "code",
   "execution_count": 1,
   "metadata": {},
   "outputs": [],
   "source": [
    "import numpy as np\n",
    "import matplotlib.pyplot as plt\n",
    "import pandas as pd\n",
    "import json\n",
    "import requests\n",
    "import re"
   ]
  },
  {
   "cell_type": "markdown",
   "metadata": {},
   "source": [
    "Get list of catchments we want to collect new discharge data from"
   ]
  },
  {
   "cell_type": "code",
   "execution_count": 47,
   "metadata": {},
   "outputs": [
    {
     "name": "stdout",
     "output_type": "stream",
     "text": [
      "['200013', '200032', '200268', '200279', '200284', '200290', '200303', '200323', '600010', '1200070', '1200171', '1200178', '1200193', '1500049', '1600066', '1600075', '1800010', '1800011', '1900079', '1900080', '1900082', '1900096', '1900104', '2000002', '2000011', '2200016', '2400008', '2400009', '2500024', '2600020', '2600021', '3600013', '4100001', '4100008', '4200002', '4800005', '5000001', '5000013', '5500004', '6200005', '6200014', '6200015', '7500023', '7500028', '7600005', '7800008', '7900003', '8000004', '8100001', '8200004', '8300002', '8300006', '8300007', '8300012', '8400011', '8400020', '8500004', '8600010', '8600012', '8700010', '8800004', '9100002', '9700001', '9800004', '10100001', '10400022', '10400023', '10500001', '10900009', '11200008', '12400002', '12700013', '12800005', '13300007', '13800001', '13900020', '13900026', '13900035', '14000002', '14800002', '15100015', '15200004', '15300001', '15600008', '15600010', '15600015', '16300007', '17200007', '17200008', '17800001', '19600007', '19600011', '20500006', '20600003', '20800002', '20800003', '20900004', '21200010', '21200049', '21300002', '22300002', '24400002', '24700003', '30700005', '30700007', '30800001', '31100004', '31100006', '31100460', '31300010']\n"
     ]
    }
   ],
   "source": [
    "dirl  = \"Discharge-kopi/\"\n",
    "files = os.listdir(dirl)\n",
    "files=np.sort(files)\n",
    "files_txt = [i for i in files if i.endswith('.txt_')]\n",
    "files_txt = [i[:-5] for i in files if i.endswith('.txt_')]\n",
    "files_txt.sort(key=int)\n",
    "print(files_txt)"
   ]
  },
  {
   "cell_type": "markdown",
   "metadata": {},
   "source": [
    "Expand that list with additional stations"
   ]
  },
  {
   "cell_type": "code",
   "execution_count": 58,
   "metadata": {},
   "outputs": [],
   "source": [
    "utvid = ['200013', '200032', '2200016', '2400008', '2400009', '7600005', '7800008', '8200004', '8300012', '8400011', '8400020', '8700010',\n",
    "        '8800011', '9800004', '14000002', '19100002', '23400018', '24700003', '31100460']"
   ]
  },
  {
   "cell_type": "code",
   "execution_count": 59,
   "metadata": {},
   "outputs": [],
   "source": [
    "ny_hrd = ['200142', '8800011', '16800003', '18500001', '21300004', '24600009', '23400018', '19100002', '17700004', '12700011', '12700006', '12300031', '12200011', '6200010']\n",
    "#og '20000004'"
   ]
  },
  {
   "cell_type": "code",
   "execution_count": 2,
   "metadata": {},
   "outputs": [],
   "source": [
    "enda = ['1600194']"
   ]
  },
  {
   "cell_type": "markdown",
   "metadata": {},
   "source": [
    "Rename file to match catchment names"
   ]
  },
  {
   "cell_type": "code",
   "execution_count": 3,
   "metadata": {},
   "outputs": [
    {
     "name": "stdout",
     "output_type": "stream",
     "text": [
      "['16.194.0']\n"
     ]
    }
   ],
   "source": [
    "new_list = []\n",
    "for i in enda:\n",
    "    new_list.append(i[0:-5]+'.'+i[-5:])\n",
    "re_zero = r\"[0]{2,4}\"\n",
    "removed_zeros = []\n",
    "for i in new_list:\n",
    "    j = i+\".0\"\n",
    "    removed_zeros.append(re.sub(re_zero, \"\", j))\n",
    "print(\n",
    "    removed_zeros\n",
    ")\n",
    "ny_my_st = removed_zeros"
   ]
  },
  {
   "cell_type": "markdown",
   "metadata": {},
   "source": [
    "Create definition to collect discharge data using an API."
   ]
  },
  {
   "cell_type": "code",
   "execution_count": 4,
   "metadata": {},
   "outputs": [],
   "source": [
    "def nye_stasjonar(st_nr_nve, st_nr_txt):\n",
    "    url = 'https://hydapi.nve.no/api/v1/Observations?StationId='+st_nr_nve+'&Parameter=1001&ResolutionTime=day&VersionNumber=0&ReferenceTime=1981-01-01%2F2020-12-31'\n",
    "    head = {\"Accept\": \"application/json\",  \"X-API-Key\": \"rjaZ9eZu70y6Cwe3/93DRA==\"}\n",
    "    r = requests.get(url = url, headers=head)\n",
    "    r_res = r.json()\n",
    "    r_data = r_res['data']\n",
    "    time = []\n",
    "    Q = []\n",
    "    for i in r_data:\n",
    "        r_obs = i['observations']\n",
    "    for j in r_obs:\n",
    "        time.append(j['time'])\n",
    "        Q.append(j['value'])\n",
    "    st = pd.DataFrame()\n",
    "    st['Q'] = Q\n",
    "    st.index = pd.to_datetime(time, utc=True)\n",
    "    st.to_csv('Final_dataset/'+st_nr_txt+'.txt_')\n",
    "    print('Saved file: '+ st_nr_txt + '.txt_')\n",
    "    "
   ]
  },
  {
   "cell_type": "markdown",
   "metadata": {},
   "source": [
    "Use definition with one of lists from above "
   ]
  },
  {
   "cell_type": "code",
   "execution_count": 9,
   "metadata": {},
   "outputs": [
    {
     "name": "stdout",
     "output_type": "stream",
     "text": [
      "2.13.0 worked\n",
      "2.32.0 worked\n",
      "2.268.0 worked\n",
      "2.279.0 worked\n",
      "2.284.0 worked\n",
      "2.290.0 worked\n",
      "2.303.0 worked\n",
      "2.323.0 worked\n",
      "6.10.0 worked\n",
      "12.70.0 worked\n",
      "12.171.0 worked\n",
      "12.178.0 worked\n",
      "12.193.0 worked\n",
      "15.49.0 worked\n",
      "15.53.0 worked\n",
      "16.66.0 worked\n",
      "16.75.0 worked\n",
      "18.10.0 worked\n",
      "18.11.0 worked\n",
      "19.79.0 worked\n",
      "19.80.0 worked\n",
      "19.82.0 worked\n",
      "19.96.0 worked\n",
      "19.104.0 worked\n",
      "20.2.0 worked\n",
      "20.11.0 worked\n",
      "22.16.0 worked\n",
      "24.8.0 worked\n",
      "24.9.0 worked\n",
      "25.24.0 worked\n",
      "26.20.0 worked\n",
      "26.21.0 worked\n",
      "26.26.0 worked\n",
      "36.13.0 worked\n",
      "41.1.0 worked\n",
      "41.8.0 worked\n",
      "42.2.0 worked\n",
      "48.5.0 worked\n",
      "50.1.0 worked\n",
      "50.13.0 worked\n",
      "55.4.0 worked\n",
      "62.5.0 worked\n",
      "62.14.0 worked\n",
      "62.15.0 worked\n",
      "75.23.0 worked\n",
      "75.28.0 worked\n",
      "76.5.0 worked\n",
      "78.8.0 worked\n",
      "79.3.0 worked\n",
      "80.4.0 worked\n",
      "81.1.0 worked\n",
      "82.4.0 worked\n",
      "83.2.0 worked\n",
      "83.6.0 worked\n",
      "83.7.0 worked\n",
      "83.12.0 worked\n",
      "84.11.0 worked\n",
      "84.20.0 worked\n",
      "85.4.0 worked\n",
      "86.10.0 worked\n",
      "86.12.0 worked\n",
      "87.10.0 worked\n",
      "88.4.0 worked\n",
      "91.2.0 worked\n",
      "97.1.0 worked\n",
      "98.4.0 worked\n",
      "101.1.0 worked\n",
      "104.22.0 worked\n",
      "104.23.0 worked\n",
      "105.1.0 worked\n",
      "109.9.0 worked\n",
      "112.8.0 worked\n",
      "124.2.0 worked\n",
      "127.13.0 worked\n",
      "128.5.0 worked\n",
      "133.7.0 worked\n",
      "138.1.0 worked\n",
      "139.20.0 worked\n",
      "139.26.0 worked\n",
      "139.35.0 worked\n",
      "140.2.0 worked\n",
      "148.2.0 worked\n",
      "151.15.0 worked\n",
      "152.4.0 worked\n",
      "153.1.0 worked\n",
      "156.8.0 worked\n",
      "156.10.0 worked\n",
      "156.15.0 worked\n",
      "163.7.0 worked\n",
      "172.7.0 worked\n",
      "172.8.0 worked\n",
      "178.1.0 worked\n",
      "196.7.0 worked\n",
      "196.11.0 worked\n",
      "205.6.0 worked\n",
      "206.3.0 worked\n",
      "208.2.0 worked\n",
      "208.3.0 worked\n",
      "209.4.0 worked\n",
      "212.10.0 worked\n",
      "212.49.0 worked\n",
      "213.2.0 worked\n",
      "223.2.0 worked\n",
      "244.2.0 worked\n",
      "247.3.0 worked\n",
      "307.5.0 worked\n",
      "307.7.0 worked\n",
      "308.1.0 worked\n",
      "311.4.0 worked\n",
      "311.6.0 worked\n",
      "311.460.0 worked\n",
      "313.10.0 worked\n"
     ]
    }
   ],
   "source": [
    "for i in my_st:\n",
    "    url = 'https://hydapi.nve.no/api/v1/Observations?StationId='+i+'&Parameter=1001&ResolutionTime=day'\n",
    "    head = {\"Accept\": \"application/json\",  \"X-API-Key\": \"rjaZ9eZu70y6Cwe3/93DRA==\"}\n",
    "    r = requests.get(url = url, headers=head)\n",
    "    r_res = r.json()\n",
    "    r_data = r_res['data']\n",
    "    \n",
    "    for j in r_data:\n",
    "        r_obs = j['observations']\n",
    "    print(i, 'worked')"
   ]
  },
  {
   "cell_type": "code",
   "execution_count": null,
   "metadata": {},
   "outputs": [],
   "source": []
  }
 ],
 "metadata": {
  "interpreter": {
   "hash": "fd23b12d419dedc7182a77b70ff5b5bd62b35d813df10a2a0458dd3d3165a7b1"
  },
  "kernelspec": {
   "display_name": "Python 3.9.4 ('py39')",
   "language": "python",
   "name": "python3"
  },
  "language_info": {
   "codemirror_mode": {
    "name": "ipython",
    "version": 3
   },
   "file_extension": ".py",
   "mimetype": "text/x-python",
   "name": "python",
   "nbconvert_exporter": "python",
   "pygments_lexer": "ipython3",
   "version": "3.9.4"
  },
  "orig_nbformat": 4
 },
 "nbformat": 4,
 "nbformat_minor": 2
}
