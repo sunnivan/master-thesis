{
 "cells": [
  {
   "cell_type": "markdown",
   "metadata": {},
   "source": [
    "Import packages "
   ]
  },
  {
   "cell_type": "code",
   "execution_count": 1,
   "metadata": {},
   "outputs": [],
   "source": [
    "import pandas as pd\n",
    "import numpy as np\n",
    "import matplotlib.pyplot as plt\n",
    "%matplotlib inline\n",
    "import os\n",
    "\n",
    "import xarray as xr\n",
    "import matplotlib.ticker as mticker\n",
    "from matplotlib import colors as c\n",
    "import geopandas\n",
    "from shapely.geometry import Point, Polygon\n",
    "import regionmask\n",
    "import descartes\n",
    "import re"
   ]
  },
  {
   "cell_type": "markdown",
   "metadata": {},
   "source": [
    "Import shapefiles from local folder"
   ]
  },
  {
   "cell_type": "code",
   "execution_count": 2,
   "metadata": {},
   "outputs": [
    {
     "name": "stdout",
     "output_type": "stream",
     "text": [
      "['Hydrologi_TotalNedborfeltMalestasjon.shx']\n",
      "objType                                   NedbørfeltMålestasjon\n",
      "feltNr                                                     1902\n",
      "stSamletID                                         016000001000\n",
      "stID                                                    160.1.0\n",
      "stNavn                                             Storglåmvatn\n",
      "areal_km2                                                251.85\n",
      "Q6190Mm3Aa                                               797.15\n",
      "Q6190mmAar                                              3165.18\n",
      "Q6190lskm2                                               100.32\n",
      "vf6190m3s                                                 25.27\n",
      "uttakDato                                            2021-09-23\n",
      "ekspType                               NVEs nedlastningsløsning\n",
      "geometry      POLYGON Z ((14.35082813994262 66.7934058783317...\n",
      "Name: 0, dtype: object\n"
     ]
    }
   ],
   "source": [
    "dirl_shape  = \"nedbørsfeltNVE/NVE_shape/NVEData/Hydrologi/\"\n",
    "files = os.listdir(dirl_shape)\n",
    "files = np.sort(files)\n",
    "files_txt = [i for i in files if i.endswith('.shx')]\n",
    "print(files_txt)\n",
    "\n",
    "myfile = dirl_shape+files_txt[0]\n",
    "import geopandas as gpd\n",
    "shapefile = gpd.read_file(myfile)\n",
    "print(shapefile.iloc[0])\n",
    "#shapefile.plot() "
   ]
  },
  {
   "cell_type": "markdown",
   "metadata": {},
   "source": [
    "Test if ok"
   ]
  },
  {
   "cell_type": "code",
   "execution_count": 3,
   "metadata": {},
   "outputs": [
    {
     "name": "stdout",
     "output_type": "stream",
     "text": [
      "objType                                   NedbørfeltMålestasjon\n",
      "feltNr                                                     1902\n",
      "stSamletID                                         016000001000\n",
      "stID                                                    160.1.0\n",
      "stNavn                                             Storglåmvatn\n",
      "areal_km2                                                251.85\n",
      "Q6190Mm3Aa                                               797.15\n",
      "Q6190mmAar                                              3165.18\n",
      "Q6190lskm2                                               100.32\n",
      "vf6190m3s                                                 25.27\n",
      "uttakDato                                            2021-09-23\n",
      "ekspType                               NVEs nedlastningsløsning\n",
      "geometry      POLYGON Z ((14.35082813994262 66.7934058783317...\n",
      "Name: 0, dtype: object\n"
     ]
    }
   ],
   "source": [
    "print(shapefile.iloc[0])"
   ]
  },
  {
   "cell_type": "markdown",
   "metadata": {},
   "source": [
    "Make list of catchments"
   ]
  },
  {
   "cell_type": "code",
   "execution_count": 4,
   "metadata": {},
   "outputs": [
    {
     "data": {
      "text/plain": [
       "124"
      ]
     },
     "execution_count": 4,
     "metadata": {},
     "output_type": "execute_result"
    }
   ],
   "source": [
    "dirl  = \"Final_dataset/\"\n",
    "files = os.listdir(dirl)\n",
    "files = np.sort(files)\n",
    "files_txt = [i for i in files if i.endswith('.txt_')]\n",
    "\n",
    "files_txt = [i[:-5] for i in files if i.endswith('.txt_')]\n",
    "files_txt.sort(key=int)\n",
    "files_txt\n",
    "len(files_txt)"
   ]
  },
  {
   "cell_type": "markdown",
   "metadata": {},
   "source": [
    "Using list of catchments from file names, renaming to fit actual catchment names"
   ]
  },
  {
   "cell_type": "code",
   "execution_count": 7,
   "metadata": {},
   "outputs": [
    {
     "name": "stdout",
     "output_type": "stream",
     "text": [
      "['2.13.0', '2.32.0', '2.142.0', '2.268.0', '2.279.0', '2.284.0', '2.290.0', '2.303.0', '2.323.0', '6.10.0', '12.70.0', '12.171.0', '12.178.0', '12.193.0', '15.49.0', '16.66.0', '16.75.0', '18.10.0', '18.11.0', '19.79.0', '19.80.0', '19.82.0', '19.96.0', '19.104.0', '20.2.0', '20.11.0', '22.16.0', '24.8.0', '24.9.0', '25.24.0', '26.20.0', '26.21.0', '36.13.0', '41.1.0', '41.8.0', '42.2.0', '48.5.0', '50.1.0', '50.13.0', '55.4.0', '62.5.0', '62.10.0', '62.14.0', '62.15.0', '75.23.0', '75.28.0', '76.5.0', '78.8.0', '79.3.0', '80.4.0', '81.1.0', '82.4.0', '83.2.0', '83.6.0', '83.7.0', '83.12.0', '84.11.0', '84.20.0', '85.4.0', '86.10.0', '86.12.0', '87.10.0', '88.4.0', '88.11.0', '91.2.0', '97.1.0', '98.4.0', '101.1.0', '104.22.0', '104.23.0', '105.1.0', '109.9.0', '112.8.0', '122.11.0', '123.31.0', '124.2.0', '127.6.0', '127.11.0', '127.13.0', '128.5.0', '133.7.0', '138.1.0', '139.20.0', '139.26.0', '139.35.0', '140.2.0', '148.2.0', '151.15.0', '152.4.0', '153.1.0', '156.8.0', '156.10.0', '156.15.0', '163.7.0', '168.3.0', '172.7.0', '172.8.0', '177.4.0', '178.1.0', '185.1.0', '191.2.0', '196.7.0', '196.11.0', '205.6.0', '206.3.0', '208.2.0', '208.3.0', '209.4.0', '212.10.0', '212.49.0', '213.2.0', '213.4.0', '223.2.0', '234.18.0', '244.2.0', '246.9.0', '247.3.0', '307.5.0', '307.7.0', '308.1.0', '311.4.0', '311.460.0', '313.10.0', '200.4.0']\n"
     ]
    },
    {
     "data": {
      "text/plain": [
       "124"
      ]
     },
     "execution_count": 7,
     "metadata": {},
     "output_type": "execute_result"
    }
   ],
   "source": [
    "new_list = []\n",
    "for i in files_txt:\n",
    "    new_list.append(i[0:-5]+'.'+i[-5:])\n",
    "re_zero = r\"[0]{2,4}\"\n",
    "removed_zeros = []\n",
    "for i in new_list:\n",
    "    j = i+\".0\"\n",
    "    removed_zeros.append(re.sub(re_zero, \"\", j))\n",
    "removed_zeros.append('200.4.0')\n",
    "removed_zeros.remove('2.4.0')\n",
    "print(\n",
    "    removed_zeros\n",
    ")\n",
    "my_st = removed_zeros\n",
    "\n",
    "len(my_st)"
   ]
  },
  {
   "cell_type": "markdown",
   "metadata": {},
   "source": [
    "Chck if all catchments are included"
   ]
  },
  {
   "cell_type": "code",
   "execution_count": 8,
   "metadata": {},
   "outputs": [
    {
     "data": {
      "text/plain": [
       "0      209.4.0\n",
       "1      172.7.0\n",
       "2      178.1.0\n",
       "3      185.1.0\n",
       "4      246.9.0\n",
       "5      213.4.0\n",
       "6      213.2.0\n",
       "7      208.2.0\n",
       "8      140.2.0\n",
       "9     139.26.0\n",
       "10    139.20.0\n",
       "11     128.5.0\n",
       "12     127.6.0\n",
       "13     101.1.0\n",
       "14     86.10.0\n",
       "15     84.20.0\n",
       "16      83.7.0\n",
       "17      83.6.0\n",
       "18     83.12.0\n",
       "19      81.1.0\n",
       "20    19.104.0\n",
       "21     19.96.0\n",
       "22     19.82.0\n",
       "23     19.80.0\n",
       "24     19.79.0\n",
       "25     18.11.0\n",
       "26     153.1.0\n",
       "27     36.13.0\n",
       "28    104.22.0\n",
       "29     168.3.0\n",
       "Name: stID, dtype: object"
      ]
     },
     "execution_count": 8,
     "metadata": {},
     "output_type": "execute_result"
    }
   ],
   "source": [
    "selected_stations = files_txt\n",
    "nf = shapefile\n",
    "nf_selected = nf[nf.stID.isin(my_st)]\n",
    "nf_selected = nf_selected.reset_index()\n",
    "st_names = nf_selected.stID\n",
    "st_names.head(30)"
   ]
  },
  {
   "cell_type": "markdown",
   "metadata": {},
   "source": [
    "Plot catchments to see if correctly donne"
   ]
  },
  {
   "cell_type": "code",
   "execution_count": 9,
   "metadata": {},
   "outputs": [
    {
     "data": {
      "text/plain": [
       "<AxesSubplot:>"
      ]
     },
     "execution_count": 9,
     "metadata": {},
     "output_type": "execute_result"
    },
    {
     "data": {
      "image/png": "[encoded data removed]",
      "text/plain": [
       "<Figure size 432x288 with 1 Axes>"
      ]
     },
     "metadata": {
      "needs_background": "light"
     },
     "output_type": "display_data"
    }
   ],
   "source": [
    "nf_selected.plot()\n",
    "\n",
    "#nf_selected.iloc[[122]].plot()"
   ]
  },
  {
   "cell_type": "markdown",
   "metadata": {},
   "source": [
    "Make regions with regionmask"
   ]
  },
  {
   "cell_type": "code",
   "execution_count": 10,
   "metadata": {},
   "outputs": [],
   "source": [
    "st_regions = regionmask.from_geopandas(nf_selected, names='stID', name='catchment')"
   ]
  },
  {
   "cell_type": "code",
   "execution_count": null,
   "metadata": {},
   "outputs": [],
   "source": []
  }
 ],
 "metadata": {
  "interpreter": {
   "hash": "fd23b12d419dedc7182a77b70ff5b5bd62b35d813df10a2a0458dd3d3165a7b1"
  },
  "kernelspec": {
   "display_name": "Python 3.9.4 64-bit ('py39': conda)",
   "name": "python3"
  },
  "language_info": {
   "codemirror_mode": {
    "name": "ipython",
    "version": 3
   },
   "file_extension": ".py",
   "mimetype": "text/x-python",
   "name": "python",
   "nbconvert_exporter": "python",
   "pygments_lexer": "ipython3",
   "version": "3.9.4"
  },
  "orig_nbformat": 4
 },
 "nbformat": 4,
 "nbformat_minor": 2
}
